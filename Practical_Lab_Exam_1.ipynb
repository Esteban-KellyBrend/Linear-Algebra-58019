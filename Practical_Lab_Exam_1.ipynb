{
  "nbformat": 4,
  "nbformat_minor": 0,
  "metadata": {
    "colab": {
      "name": "Practical Lab Exam 1.ipynb",
      "provenance": [],
      "authorship_tag": "ABX9TyMgWYVDVbl+pCgARakkGD1q",
      "include_colab_link": true
    },
    "kernelspec": {
      "name": "python3",
      "display_name": "Python 3"
    },
    "language_info": {
      "name": "python"
    }
  },
  "cells": [
    {
      "cell_type": "markdown",
      "metadata": {
        "id": "view-in-github",
        "colab_type": "text"
      },
      "source": [
        "<a href=\"https://colab.research.google.com/github/Kel24/Linear-Algebra-58019/blob/main/Practical_Lab_Exam_1.ipynb\" target=\"_parent\"><img src=\"https://colab.research.google.com/assets/colab-badge.svg\" alt=\"Open In Colab\"/></a>"
      ]
    },
    {
      "cell_type": "markdown",
      "metadata": {
        "id": "4i_1UezSuTAw"
      },
      "source": [
        "##Practical Lab Exam 1"
      ]
    },
    {
      "cell_type": "code",
      "metadata": {
        "colab": {
          "base_uri": "https://localhost:8080/"
        },
        "id": "3DTWFhsquXRO",
        "outputId": "ed3ad34a-ab5d-4c3f-e6df-edf227f676f3"
      },
      "source": [
        "import numpy as np\n",
        "A = np.array (([1,2,3],[4,5,6]))\n",
        "B = np.array ((([1,2],[3,4],[5,6])))\n",
        "C = np.array ((([1,2,3],[4,5,6],[7,8,9])))\n",
        "D = np.array (([1,2],[3,4]))\n",
        "\n",
        "print(A,\"\\n\" )\n",
        "print(B,\"\\n\")\n",
        "print(C,\"\\n\")\n",
        "print(D,\"\\n\")\n",
        "dot = np.dot(A,B)\n",
        "print(dot,\"\\n\")\n",
        "print(D+D,\"\\n\")\n",
        "print(2*C)"
      ],
      "execution_count": 6,
      "outputs": [
        {
          "output_type": "stream",
          "name": "stdout",
          "text": [
            "[[1 2 3]\n",
            " [4 5 6]] \n",
            "\n",
            "[[1 2]\n",
            " [3 4]\n",
            " [5 6]] \n",
            "\n",
            "[[1 2 3]\n",
            " [4 5 6]\n",
            " [7 8 9]] \n",
            "\n",
            "[[1 2]\n",
            " [3 4]] \n",
            "\n",
            "[[22 28]\n",
            " [49 64]] \n",
            "\n",
            "[[2 4]\n",
            " [6 8]] \n",
            "\n",
            "[[ 2  4  6]\n",
            " [ 8 10 12]\n",
            " [14 16 18]]\n"
          ]
        }
      ]
    },
    {
      "cell_type": "code",
      "metadata": {
        "colab": {
          "base_uri": "https://localhost:8080/"
        },
        "id": "ZNUG66tu6jt5",
        "outputId": "7138ad8d-84f3-4d0d-93dc-7b9189c369f2"
      },
      "source": [
        "import numpy as np\n",
        "θ = np.array ([5,3,-1])\n",
        "\n",
        "\n",
        "print(θ,\"\\n\")\n",
        "print(\"Data type:\",θ.dtype )\n",
        "print(\"Type:\", type(θ))\n",
        "print(\"Shape:\", θ.shape) \n",
        "print(\"Dimension:\",θ.ndim )"
      ],
      "execution_count": 7,
      "outputs": [
        {
          "output_type": "stream",
          "name": "stdout",
          "text": [
            "[ 5  3 -1] \n",
            "\n",
            "Data type: int64\n",
            "Type: <class 'numpy.ndarray'>\n",
            "Shape: (3,)\n",
            "Dimension: 1\n"
          ]
        }
      ]
    }
  ]
}
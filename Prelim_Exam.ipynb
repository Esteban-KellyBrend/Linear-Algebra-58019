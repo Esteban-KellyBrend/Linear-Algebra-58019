{
  "nbformat": 4,
  "nbformat_minor": 0,
  "metadata": {
    "colab": {
      "name": "Prelim Exam.ipynb",
      "provenance": [],
      "authorship_tag": "ABX9TyOZdNnIgkkYVWJcGUcU229F",
      "include_colab_link": true
    },
    "kernelspec": {
      "name": "python3",
      "display_name": "Python 3"
    },
    "language_info": {
      "name": "python"
    }
  },
  "cells": [
    {
      "cell_type": "markdown",
      "metadata": {
        "id": "view-in-github",
        "colab_type": "text"
      },
      "source": [
        "<a href=\"https://colab.research.google.com/github/Kel24/Linear-Algebra-58019/blob/main/Prelim_Exam.ipynb\" target=\"_parent\"><img src=\"https://colab.research.google.com/assets/colab-badge.svg\" alt=\"Open In Colab\"/></a>"
      ]
    },
    {
      "cell_type": "markdown",
      "metadata": {
        "id": "97P1WcPlhoAY"
      },
      "source": [
        "##Prelim Exam"
      ]
    },
    {
      "cell_type": "markdown",
      "metadata": {
        "id": "_0T2RNtFquX5"
      },
      "source": [
        "##Question 1."
      ]
    },
    {
      "cell_type": "code",
      "metadata": {
        "colab": {
          "base_uri": "https://localhost:8080/"
        },
        "id": "bs2B5frogpPz",
        "outputId": "4c7d008f-d3f6-4a3e-86dc-afabd03afe8a"
      },
      "source": [
        "import numpy as np\n",
        "C = np.eye(4) \n",
        "print(C) "
      ],
      "execution_count": 21,
      "outputs": [
        {
          "output_type": "stream",
          "name": "stdout",
          "text": [
            "[[1. 0. 0. 0.]\n",
            " [0. 1. 0. 0.]\n",
            " [0. 0. 1. 0.]\n",
            " [0. 0. 0. 1.]]\n"
          ]
        }
      ]
    },
    {
      "cell_type": "markdown",
      "metadata": {
        "id": "XTRujvJHqV5W"
      },
      "source": [
        "##Question 2."
      ]
    },
    {
      "cell_type": "code",
      "metadata": {
        "colab": {
          "base_uri": "https://localhost:8080/"
        },
        "id": "MEQRv5Url6rf",
        "outputId": "34023cd8-1de9-46e4-8460-403e4d11bbed"
      },
      "source": [
        "import numpy as np\n",
        "C = np.eye(4) \n",
        "print(C+C) "
      ],
      "execution_count": 20,
      "outputs": [
        {
          "output_type": "stream",
          "name": "stdout",
          "text": [
            "[[2. 0. 0. 0.]\n",
            " [0. 2. 0. 0.]\n",
            " [0. 0. 2. 0.]\n",
            " [0. 0. 0. 2.]]\n"
          ]
        }
      ]
    },
    {
      "cell_type": "markdown",
      "metadata": {
        "id": "5kF0K2v2q1z9"
      },
      "source": [
        "##Question 3.\n"
      ]
    },
    {
      "cell_type": "code",
      "metadata": {
        "colab": {
          "base_uri": "https://localhost:8080/"
        },
        "id": "Dt2zbbLym-oV",
        "outputId": "4c5afc58-b32e-4739-8313-a0547c06d4d7"
      },
      "source": [
        "import numpy as np\n",
        "A = np.array([2,7,4]) \n",
        "B = np.array([3,9,8]) \n",
        "\n",
        "cross = np.cross(A,B) \n",
        "print(cross)"
      ],
      "execution_count": 19,
      "outputs": [
        {
          "output_type": "stream",
          "name": "stdout",
          "text": [
            "[20 -4 -3]\n"
          ]
        }
      ]
    }
  ]
}
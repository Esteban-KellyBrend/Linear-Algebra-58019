{
  "nbformat": 4,
  "nbformat_minor": 0,
  "metadata": {
    "colab": {
      "name": "Matrix Algebra.ipynb",
      "provenance": [],
      "authorship_tag": "ABX9TyN4CpBY1SFXi5wMcnHvUBP/",
      "include_colab_link": true
    },
    "kernelspec": {
      "name": "python3",
      "display_name": "Python 3"
    },
    "language_info": {
      "name": "python"
    }
  },
  "cells": [
    {
      "cell_type": "markdown",
      "metadata": {
        "id": "view-in-github",
        "colab_type": "text"
      },
      "source": [
        "<a href=\"https://colab.research.google.com/github/Kel24/Linear-Algebra-58019/blob/main/Matrix_Algebra.ipynb\" target=\"_parent\"><img src=\"https://colab.research.google.com/assets/colab-badge.svg\" alt=\"Open In Colab\"/></a>"
      ]
    },
    {
      "cell_type": "markdown",
      "metadata": {
        "id": "FzEqr9DizWNj"
      },
      "source": [
        "##Python program to inverse \n",
        "\n"
      ]
    },
    {
      "cell_type": "code",
      "metadata": {
        "colab": {
          "base_uri": "https://localhost:8080/"
        },
        "id": "L__E9h0v2x2P",
        "outputId": "7f8694ed-f45b-469c-80e3-af6fe30fecc7"
      },
      "source": [
        "import numpy as np\n",
        "A=np.array([[1,2],[4,7]])\n",
        "invA=(np.linalg.inv(A))\n",
        "print(invA)\n"
      ],
      "execution_count": null,
      "outputs": [
        {
          "output_type": "stream",
          "name": "stdout",
          "text": [
            "[[-7.  2.]\n",
            " [ 4. -1.]]\n"
          ]
        }
      ]
    },
    {
      "cell_type": "code",
      "metadata": {
        "colab": {
          "base_uri": "https://localhost:8080/"
        },
        "id": "3aYKgGbQ3j1u",
        "outputId": "90f10e23-9126-4789-df71-795c4e43e27e"
      },
      "source": [
        "C=np.dot(A,invA)\n",
        "print(C)"
      ],
      "execution_count": null,
      "outputs": [
        {
          "output_type": "stream",
          "name": "stdout",
          "text": [
            "[[1. 0.]\n",
            " [0. 1.]]\n"
          ]
        }
      ]
    },
    {
      "cell_type": "code",
      "metadata": {
        "colab": {
          "base_uri": "https://localhost:8080/"
        },
        "id": "LbPRrHQ14f3f",
        "outputId": "1a977dbc-eb96-4350-debb-b1cdea3e4d5d"
      },
      "source": [
        "##Python Program to transpose a 3x3 Matrix A=([6,1,1],[4,-2,5],[2,8,7])\n",
        "A=np.array([[6,1,1],[4,-2,5],[2,8,7]])\n",
        "print(A)\n",
        "B=np.transpose(A)\n",
        "print(B)\n"
      ],
      "execution_count": null,
      "outputs": [
        {
          "output_type": "stream",
          "name": "stdout",
          "text": [
            "[[ 6  1  1]\n",
            " [ 4 -2  5]\n",
            " [ 2  8  7]]\n",
            "[[ 6  4  2]\n",
            " [ 1 -2  8]\n",
            " [ 1  5  7]]\n"
          ]
        }
      ]
    },
    {
      "cell_type": "code",
      "metadata": {
        "colab": {
          "base_uri": "https://localhost:8080/"
        },
        "id": "mfrui8I36hll",
        "outputId": "ba8fdfc8-1a78-4e00-9152-8ec236537c85"
      },
      "source": [
        "#Program to inverse a 3x3 Matrix A=([6,1,1],[4,-2,5],[2,8,7])\n",
        "A=np.array([[6,1,1],[4,-2,5],[2,8,7]])\n",
        "B=(np.linalg.inv(A))\n",
        "print(B)\n",
        "\n"
      ],
      "execution_count": null,
      "outputs": [
        {
          "output_type": "stream",
          "name": "stdout",
          "text": [
            "[[ 0.17647059 -0.00326797 -0.02287582]\n",
            " [ 0.05882353 -0.13071895  0.08496732]\n",
            " [-0.11764706  0.1503268   0.05228758]]\n"
          ]
        }
      ]
    },
    {
      "cell_type": "code",
      "metadata": {
        "colab": {
          "base_uri": "https://localhost:8080/"
        },
        "id": "tKddi_6x7iij",
        "outputId": "19dfbd85-ff22-45ec-d4d2-dcbcb88f105f"
      },
      "source": [
        "#Program Code Produc A and B\n",
        "productAB= np.dot(A, B)\n",
        "print(productAB)"
      ],
      "execution_count": null,
      "outputs": [
        {
          "output_type": "stream",
          "name": "stdout",
          "text": [
            "[[ 1.00000000e+00  0.00000000e+00  2.77555756e-17]\n",
            " [-1.38777878e-17  1.00000000e+00  1.38777878e-17]\n",
            " [-4.16333634e-17  1.38777878e-16  1.00000000e+00]]\n"
          ]
        }
      ]
    },
    {
      "cell_type": "code",
      "metadata": {
        "colab": {
          "base_uri": "https://localhost:8080/"
        },
        "id": "vt8wMGMq-1Y6",
        "outputId": "fb27805c-1fa2-441c-ce51-7bd8f654b8fb"
      },
      "source": [
        "##Coding Activity 3\n",
        "##Create a Python Program to inverse and transpose a 4x4 matrix, A = ([6,1,1,3],[4,-2,5,1],[2,8,7,6],[3,1,9,7])\n",
        "A =np.array([[6,1,1,3],[4,-2,5,1],[2,8,7,6],[3,1,9,7]])\n",
        "invA=(np.linalg.inv(A))\n",
        "print(\"The inverse of a 4x4 matrix is :\")\n",
        "print(invA,\"\\n\")\n",
        "\n",
        "print(\"The transpose of a 4x4 matrix is :\")\n",
        "B=np.transpose(A)\n",
        "print(B)\n",
        "\n"
      ],
      "execution_count": 78,
      "outputs": [
        {
          "output_type": "stream",
          "name": "stdout",
          "text": [
            "The inverse of a 4x4 matrix is :\n",
            "[[ 0.13368984  0.10695187  0.02139037 -0.09090909]\n",
            " [-0.00229183  0.02673797  0.14820474 -0.12987013]\n",
            " [-0.12987013  0.18181818  0.06493506 -0.02597403]\n",
            " [ 0.11000764 -0.28342246 -0.11382735  0.23376623]] \n",
            "\n",
            "The transpose of a 4x4 matrix is :\n",
            "[[ 6  4  2  3]\n",
            " [ 1 -2  8  1]\n",
            " [ 1  5  7  9]\n",
            " [ 3  1  6  7]]\n"
          ]
        }
      ]
    }
  ]
}
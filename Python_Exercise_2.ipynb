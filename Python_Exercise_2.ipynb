{
  "nbformat": 4,
  "nbformat_minor": 0,
  "metadata": {
    "colab": {
      "name": "Python Exercise 2.ipynb",
      "provenance": [],
      "include_colab_link": true
    },
    "kernelspec": {
      "name": "python3",
      "display_name": "Python 3"
    },
    "language_info": {
      "name": "python"
    }
  },
  "cells": [
    {
      "cell_type": "markdown",
      "metadata": {
        "id": "view-in-github",
        "colab_type": "text"
      },
      "source": [
        "<a href=\"https://colab.research.google.com/github/Kel24/Linear-Algebra-58019/blob/main/Python_Exercise_2.ipynb\" target=\"_parent\"><img src=\"https://colab.research.google.com/assets/colab-badge.svg\" alt=\"Open In Colab\"/></a>"
      ]
    },
    {
      "cell_type": "markdown",
      "metadata": {
        "id": "mdtimbhjnIXP"
      },
      "source": [
        "##Representing Vectors"
      ]
    },
    {
      "cell_type": "code",
      "metadata": {
        "colab": {
          "base_uri": "https://localhost:8080/"
        },
        "id": "w8PmBLcqnNEV",
        "outputId": "245f5285-e390-4d2c-83ac-65f53b73b67d"
      },
      "source": [
        "import numpy as np\n",
        "\n",
        "A=np.array([4,2])\n",
        "B=np.array([2,-5])\n",
        "\n",
        "print(\"Vector A is \", A)\n",
        "print(\"Vector B is \", B )"
      ],
      "execution_count": null,
      "outputs": [
        {
          "output_type": "stream",
          "name": "stdout",
          "text": [
            "Vector A is  [4 2]\n",
            "Vector B is  [ 2 -5]\n"
          ]
        }
      ]
    },
    {
      "cell_type": "markdown",
      "metadata": {
        "id": "IT_ylnUVo3gJ"
      },
      "source": [
        "##Describing Vectors in Numpy\n"
      ]
    },
    {
      "cell_type": "code",
      "metadata": {
        "colab": {
          "base_uri": "https://localhost:8080/"
        },
        "id": "iyzYZBAJo3LC",
        "outputId": "1587c6e0-8d51-4f34-8f64-fe48737caac5"
      },
      "source": [
        "import numpy as np\n",
        "\n",
        "ball1 = np.array([1,2,3])\n",
        "ball2 = np.array([0,1,-1])\n",
        "pool = np.array([ball1,ball2])\n",
        "pool.shape\n",
        "pool.ndim"
      ],
      "execution_count": null,
      "outputs": [
        {
          "output_type": "execute_result",
          "data": {
            "text/plain": [
              "2"
            ]
          },
          "metadata": {},
          "execution_count": 10
        }
      ]
    },
    {
      "cell_type": "code",
      "metadata": {
        "colab": {
          "base_uri": "https://localhost:8080/"
        },
        "id": "o8dnM6Pdqd5T",
        "outputId": "5a37cd8c-c249-41a2-d1b5-4b868dc7f79f"
      },
      "source": [
        "U = np.array(([1,2,3],[4,5,6]))\n",
        "U\n",
        "U.size"
      ],
      "execution_count": null,
      "outputs": [
        {
          "output_type": "execute_result",
          "data": {
            "text/plain": [
              "6"
            ]
          },
          "metadata": {},
          "execution_count": 15
        }
      ]
    },
    {
      "cell_type": "markdown",
      "metadata": {
        "id": "p1mpRsDKrrjL"
      },
      "source": [
        "#Space"
      ]
    },
    {
      "cell_type": "markdown",
      "metadata": {
        "id": "kAIRR4-pryuF"
      },
      "source": [
        "##Vector spaces are matematical objects that abstractly capture the geometry and algebra of linear equations"
      ]
    },
    {
      "cell_type": "markdown",
      "metadata": {
        "id": "hDr7bZzptRi8"
      },
      "source": [
        "###Addition of Vectors"
      ]
    },
    {
      "cell_type": "code",
      "metadata": {
        "colab": {
          "base_uri": "https://localhost:8080/"
        },
        "id": "McDRwQEqrtQg",
        "outputId": "c176e9b7-32dc-44f0-8d5b-c0f7bb99e6a0"
      },
      "source": [
        "addend1 = np.array([0,0,0])\n",
        "addend2 = np.array([1,1,0])\n",
        "sum = addend1 + addend2\n",
        "sum"
      ],
      "execution_count": null,
      "outputs": [
        {
          "output_type": "execute_result",
          "data": {
            "text/plain": [
              "array([1, 1, 0])"
            ]
          },
          "metadata": {},
          "execution_count": 20
        }
      ]
    },
    {
      "cell_type": "code",
      "metadata": {
        "colab": {
          "base_uri": "https://localhost:8080/"
        },
        "id": "azcjs7mtt9ze",
        "outputId": "213a0f37-4ac0-43f7-e15c-ecb6a9dabebc"
      },
      "source": [
        "addend1 = np.array([0,0,0])\n",
        "addend2 = np.array([1,1,0])\n",
        "resultant = np.add(addend1,addend2)\n",
        "resultant"
      ],
      "execution_count": null,
      "outputs": [
        {
          "output_type": "execute_result",
          "data": {
            "text/plain": [
              "array([1, 1, 0])"
            ]
          },
          "metadata": {},
          "execution_count": 27
        }
      ]
    },
    {
      "cell_type": "markdown",
      "metadata": {
        "id": "A3YU2Sc1u_Zq"
      },
      "source": [
        "###Subtraction of Vector"
      ]
    },
    {
      "cell_type": "code",
      "metadata": {
        "colab": {
          "base_uri": "https://localhost:8080/"
        },
        "id": "4NlaNgsMvDzO",
        "outputId": "de6c69ec-5b37-4b69-a515-7b629326b4df"
      },
      "source": [
        "#You will subtract the components of addend 2 from addend 1 : addend1-addend 2\n",
        "difference = addend1-addend2\n",
        "difference\n"
      ],
      "execution_count": null,
      "outputs": [
        {
          "output_type": "execute_result",
          "data": {
            "text/plain": [
              "array([-1, -1,  0])"
            ]
          },
          "metadata": {},
          "execution_count": 31
        }
      ]
    },
    {
      "cell_type": "code",
      "metadata": {
        "colab": {
          "base_uri": "https://localhost:8080/"
        },
        "id": "G29YUaBTvrhj",
        "outputId": "d304f2d8-cd2a-4c66-ac1a-1b52a876f749"
      },
      "source": [
        "difference2 = np.subtract(addend1,addend2)\n",
        "difference2"
      ],
      "execution_count": null,
      "outputs": [
        {
          "output_type": "execute_result",
          "data": {
            "text/plain": [
              "array([-1, -1,  0])"
            ]
          },
          "metadata": {},
          "execution_count": 32
        }
      ]
    },
    {
      "cell_type": "markdown",
      "metadata": {
        "id": "tdsQPPqWwbbF"
      },
      "source": [
        "###Scaling"
      ]
    },
    {
      "cell_type": "code",
      "metadata": {
        "colab": {
          "base_uri": "https://localhost:8080/"
        },
        "id": "G4pswKYUwqS7",
        "outputId": "cda732a3-780f-49c0-ba12-4362f55b542b"
      },
      "source": [
        "A = np.array([1,5,8,9])\n",
        "S = 5*A\n",
        "S"
      ],
      "execution_count": null,
      "outputs": [
        {
          "output_type": "execute_result",
          "data": {
            "text/plain": [
              "array([ 5, 25, 40, 45])"
            ]
          },
          "metadata": {},
          "execution_count": 33
        }
      ]
    },
    {
      "cell_type": "markdown",
      "metadata": {
        "id": "7owri1StyHtl"
      },
      "source": [
        "###Cross Product"
      ]
    },
    {
      "cell_type": "code",
      "metadata": {
        "colab": {
          "base_uri": "https://localhost:8080/"
        },
        "id": "ftAqBQBaxsD4",
        "outputId": "250cea5a-51e6-4225-cf27-0a042562b5c3"
      },
      "source": [
        "A = np.array([2,3,4])\n",
        "B = np.array([1,7,1])\n",
        "\n",
        "#Compute the cross product of A and B\n",
        "cross = np.cross(A,B)\n",
        "print(cross)"
      ],
      "execution_count": null,
      "outputs": [
        {
          "output_type": "stream",
          "name": "stdout",
          "text": [
            "[-25   2  11]\n"
          ]
        }
      ]
    },
    {
      "cell_type": "code",
      "metadata": {
        "id": "QA5uC15o07XG",
        "outputId": "4138d470-6d2f-4354-80af-1a405d45460e",
        "colab": {
          "base_uri": "https://localhost:8080/"
        }
      },
      "source": [
        "import numpy as np\n",
        "A = np.array([2,3])\n",
        "B = np.array([1,7])\n",
        "\n",
        "#Compute the dot product of A and B\n",
        "\n",
        "dot = np.dot(A,B)\n",
        "print(dot)"
      ],
      "execution_count": 3,
      "outputs": [
        {
          "output_type": "stream",
          "name": "stdout",
          "text": [
            "23\n"
          ]
        }
      ]
    }
  ]
}
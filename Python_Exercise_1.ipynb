{
  "nbformat": 4,
  "nbformat_minor": 0,
  "metadata": {
    "colab": {
      "name": "Python Exercise 1",
      "provenance": [],
      "authorship_tag": "ABX9TyNv2siMuuKZ2dU4M5DjJzsk",
      "include_colab_link": true
    },
    "kernelspec": {
      "name": "python3",
      "display_name": "Python 3"
    },
    "language_info": {
      "name": "python"
    }
  },
  "cells": [
    {
      "cell_type": "markdown",
      "metadata": {
        "id": "view-in-github",
        "colab_type": "text"
      },
      "source": [
        "<a href=\"https://colab.research.google.com/github/Kel24/Linear-Algebra-58019/blob/main/Python_Exercise_1.ipynb\" target=\"_parent\"><img src=\"https://colab.research.google.com/assets/colab-badge.svg\" alt=\"Open In Colab\"/></a>"
      ]
    },
    {
      "cell_type": "markdown",
      "metadata": {
        "id": "Gqkm-KMD8IAT"
      },
      "source": [
        "#Matrix and Its Operations"
      ]
    },
    {
      "cell_type": "code",
      "metadata": {
        "colab": {
          "base_uri": "https://localhost:8080/"
        },
        "id": "cqTx19om8Jjx",
        "outputId": "a9fdb92e-c51c-43fa-bdf8-3afb643f2439"
      },
      "source": [
        "#Sum of A and B\n",
        "import numpy as np\n",
        "A = np.array (([-5,0,],[4,1])) \n",
        "B = np.array (([6,-3,],[2,3])) \n",
        "\n",
        "print(A+B)\n",
        "\n"
      ],
      "execution_count": 30,
      "outputs": [
        {
          "output_type": "stream",
          "name": "stdout",
          "text": [
            "[[ 1 -3]\n",
            " [ 6  4]]\n"
          ]
        }
      ]
    },
    {
      "cell_type": "code",
      "metadata": {
        "colab": {
          "base_uri": "https://localhost:8080/"
        },
        "id": "B8lQszJVAFwL",
        "outputId": "f36bf5a8-fdfe-45c8-adbf-435626b81bd3"
      },
      "source": [
        "#Difference 1 B and A\n",
        "import numpy as np\n",
        "A = np.array (([-5,0,],[4,1])) \n",
        "B = np.array (([6,-3,],[2,3])) \n",
        "print(B-A)"
      ],
      "execution_count": 29,
      "outputs": [
        {
          "output_type": "stream",
          "name": "stdout",
          "text": [
            "[[11 -3]\n",
            " [-2  2]]\n"
          ]
        }
      ]
    },
    {
      "cell_type": "code",
      "metadata": {
        "colab": {
          "base_uri": "https://localhost:8080/"
        },
        "id": "xjBNndJ8AM0Z",
        "outputId": "dd341554-6e68-42a1-a282-bca42e864ea2"
      },
      "source": [
        "#Difference 2 of A and b\n",
        "import numpy as np\n",
        "A = np.array (([-5,0,],[4,1])) \n",
        "B = np.array (([6,-3,],[2,3])) \n",
        "print(A-B)"
      ],
      "execution_count": 28,
      "outputs": [
        {
          "output_type": "stream",
          "name": "stdout",
          "text": [
            "[[-11   3]\n",
            " [  2  -2]]\n"
          ]
        }
      ]
    }
  ]
}
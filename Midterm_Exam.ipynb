{
  "nbformat": 4,
  "nbformat_minor": 0,
  "metadata": {
    "colab": {
      "name": "Midterm Exam",
      "provenance": [],
      "authorship_tag": "ABX9TyOAmADMBb/jl/fd0T+YXygL",
      "include_colab_link": true
    },
    "kernelspec": {
      "name": "python3",
      "display_name": "Python 3"
    },
    "language_info": {
      "name": "python"
    }
  },
  "cells": [
    {
      "cell_type": "markdown",
      "metadata": {
        "id": "view-in-github",
        "colab_type": "text"
      },
      "source": [
        "<a href=\"https://colab.research.google.com/github/Kel24/Linear-Algebra-58019/blob/main/Midterm_Exam.ipynb\" target=\"_parent\"><img src=\"https://colab.research.google.com/assets/colab-badge.svg\" alt=\"Open In Colab\"/></a>"
      ]
    },
    {
      "cell_type": "markdown",
      "metadata": {
        "id": "C1_XTPPT4wHO"
      },
      "source": [
        "##Midterm Exam"
      ]
    },
    {
      "cell_type": "markdown",
      "metadata": {
        "id": "0YcqeLJ258Cj"
      },
      "source": [
        "##Question 1. Create a Python code that displays a square matrix whose length is 5 (10 points)"
      ]
    },
    {
      "cell_type": "code",
      "metadata": {
        "colab": {
          "base_uri": "https://localhost:8080/"
        },
        "id": "3VcylJx141yX",
        "outputId": "2acaefc7-4d75-45dc-ed7f-6b04d7c76919"
      },
      "source": [
        "import numpy as np \n",
        "A = np.zeros ((5,5)) #Creating a 5x5 matrix\n",
        "print(A)"
      ],
      "execution_count": 2,
      "outputs": [
        {
          "output_type": "stream",
          "name": "stdout",
          "text": [
            "[[0. 0. 0. 0. 0.]\n",
            " [0. 0. 0. 0. 0.]\n",
            " [0. 0. 0. 0. 0.]\n",
            " [0. 0. 0. 0. 0.]\n",
            " [0. 0. 0. 0. 0.]]\n"
          ]
        }
      ]
    },
    {
      "cell_type": "markdown",
      "metadata": {
        "id": "jfh1X9JW6q5O"
      },
      "source": [
        "##Question 2. Create a Python code that displays a square matrix whose elements below the principal diagonal are zero (10 points)"
      ]
    },
    {
      "cell_type": "code",
      "metadata": {
        "colab": {
          "base_uri": "https://localhost:8080/"
        },
        "id": "fuVcUlAU6HXy",
        "outputId": "a26d07b8-de74-4a25-926c-db255864d6c0"
      },
      "source": [
        "import numpy as np \n",
        "B= np.array([[1,1,1],[0,1,1],[0,0,1]])#Creating Matrix below the principal are zero\n",
        "print(B)"
      ],
      "execution_count": 22,
      "outputs": [
        {
          "output_type": "stream",
          "name": "stdout",
          "text": [
            "[[1 1 1]\n",
            " [0 1 1]\n",
            " [0 0 1]]\n"
          ]
        }
      ]
    },
    {
      "cell_type": "markdown",
      "metadata": {
        "id": "-kKc5qbl7aKR"
      },
      "source": [
        "##Question 3. Create a Python code that displays a square matrix which is symmetrical (10 points)"
      ]
    },
    {
      "cell_type": "code",
      "metadata": {
        "colab": {
          "base_uri": "https://localhost:8080/"
        },
        "id": "ee4Vome77jCz",
        "outputId": "72f0c0d5-2a3f-4f4a-a715-ed364e0c2700"
      },
      "source": [
        "import numpy as np                       \n",
        "D = np.array([[1,7,3],[7,4,5],[3,5,0]])   #creating an array \n",
        "print(\"Original Matrix\")\n",
        "print(D,\"\\n\")  \n",
        "print(\"Symmetrical Matrix\")                              \n",
        "E = np.transpose(D)               \n",
        "print(E)  \n"
      ],
      "execution_count": 45,
      "outputs": [
        {
          "output_type": "stream",
          "name": "stdout",
          "text": [
            "Original Matrix\n",
            "[[1 7 3]\n",
            " [7 4 5]\n",
            " [3 5 0]] \n",
            "\n",
            "Symmetrical Matrix\n",
            "[[1 7 3]\n",
            " [7 4 5]\n",
            " [3 5 0]]\n"
          ]
        }
      ]
    },
    {
      "cell_type": "markdown",
      "metadata": {
        "id": "R4sGRoOP8QTT"
      },
      "source": [
        "##Question 4. What is the inverse of matrix C? Show your solution by python coding. (20 points)"
      ]
    },
    {
      "cell_type": "code",
      "metadata": {
        "colab": {
          "base_uri": "https://localhost:8080/"
        },
        "id": "FT-rkctJ8VCx",
        "outputId": "c2bfaee5-b8f4-4caa-d0f8-7fbea96f9279"
      },
      "source": [
        "import numpy as np\n",
        "C = np.array([[1,2,3],[2,3,3],[3,4,-2]]) #creation of matrix C\n",
        "print(C,\"\\n\")\n",
        "inv_C = np.linalg.inv(C) #to show the inverse of matrix C\n",
        "print(inv_C)"
      ],
      "execution_count": 12,
      "outputs": [
        {
          "output_type": "stream",
          "name": "stdout",
          "text": [
            "[[ 1  2  3]\n",
            " [ 2  3  3]\n",
            " [ 3  4 -2]] \n",
            "\n",
            "[[-3.6  3.2 -0.6]\n",
            " [ 2.6 -2.2  0.6]\n",
            " [-0.2  0.4 -0.2]]\n"
          ]
        }
      ]
    },
    {
      "cell_type": "markdown",
      "metadata": {
        "id": "2vODfIsE9jqm"
      },
      "source": [
        "##Question 5. What is the determinant of the given matrix in Question 4? Show your solution by python coding. (20 points)"
      ]
    },
    {
      "cell_type": "code",
      "metadata": {
        "colab": {
          "base_uri": "https://localhost:8080/"
        },
        "id": "OWCM74c69oT8",
        "outputId": "dc17f7eb-d69a-46a3-da03-e4eb6738cede"
      },
      "source": [
        "import numpy as np\n",
        "A = np.array([[1,2,3],[2,3,3],[3,4,-2]])\n",
        "print(A)\n",
        "print(round(np.linalg.det(A))) #for the determinant of the given matrix"
      ],
      "execution_count": 33,
      "outputs": [
        {
          "output_type": "stream",
          "name": "stdout",
          "text": [
            "[[ 1  2  3]\n",
            " [ 2  3  3]\n",
            " [ 3  4 -2]]\n",
            "5\n"
          ]
        }
      ]
    },
    {
      "cell_type": "markdown",
      "metadata": {
        "id": "0GkuQm8tFJO7"
      },
      "source": [
        "##Question 6. Find the roots of the linear equations by showing its python codes (30 points)\n",
        "\n",
        "5X1 + 4X2 + X3 = 3.4\n",
        "\n",
        "10X1 + 9X2 + 4X3 = 8.8\n",
        "\n",
        "10X1 + 13X2 + 15X3 = 19.2"
      ]
    },
    {
      "cell_type": "code",
      "metadata": {
        "colab": {
          "base_uri": "https://localhost:8080/"
        },
        "id": "FlU--QyLFOe9",
        "outputId": "8beb6c47-7dc1-4a3b-ccdc-974b003f56a0"
      },
      "source": [
        "import numpy as np\n",
        "A = np.array ([[5,4,1],[10,9,4],[10,13,15]])\n",
        "print(A,\"\\n\")\n",
        "inv_A = np.linalg.inv(A)\n",
        "print(inv_A,\"\\n\")\n",
        "B = np.array([[3.4],[8.8],[19.2]]) #creation of a Matrix B\n",
        "print(B,\"\\n\")\n",
        "X = np.linalg.inv(A).dot(B)\n",
        "print(\"Roots of the linear equation\")\n",
        "print(X,\"\\n\")\n",
        "B = np.dot(A,X) #To check if the answer is correct\n",
        "print(B)"
      ],
      "execution_count": 49,
      "outputs": [
        {
          "output_type": "stream",
          "name": "stdout",
          "text": [
            "[[ 5  4  1]\n",
            " [10  9  4]\n",
            " [10 13 15]] \n",
            "\n",
            "[[ 5.53333333 -3.13333333  0.46666667]\n",
            " [-7.33333333  4.33333333 -0.66666667]\n",
            " [ 2.66666667 -1.66666667  0.33333333]] \n",
            "\n",
            "[[ 3.4]\n",
            " [ 8.8]\n",
            " [19.2]] \n",
            "\n",
            "Roots of the linear equation\n",
            "[[0.2]\n",
            " [0.4]\n",
            " [0.8]] \n",
            "\n",
            "[[ 3.4]\n",
            " [ 8.8]\n",
            " [19.2]]\n"
          ]
        }
      ]
    }
  ]
}
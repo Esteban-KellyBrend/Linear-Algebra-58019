{
  "nbformat": 4,
  "nbformat_minor": 0,
  "metadata": {
    "colab": {
      "name": "Exercise1.ipynb",
      "provenance": [],
      "collapsed_sections": [],
      "authorship_tag": "ABX9TyOlzK/byXVGLzdIflwZVrqa",
      "include_colab_link": true
    },
    "kernelspec": {
      "name": "python3",
      "display_name": "Python 3"
    },
    "language_info": {
      "name": "python"
    }
  },
  "cells": [
    {
      "cell_type": "markdown",
      "metadata": {
        "id": "view-in-github",
        "colab_type": "text"
      },
      "source": [
        "<a href=\"https://colab.research.google.com/github/Kel24/Linear-Algebra-58019/blob/main/Exercise1.ipynb\" target=\"_parent\"><img src=\"https://colab.research.google.com/assets/colab-badge.svg\" alt=\"Open In Colab\"/></a>"
      ]
    },
    {
      "cell_type": "code",
      "execution_count": 27,
      "metadata": {
        "colab": {
          "base_uri": "https://localhost:8080/"
        },
        "id": "V5Gag3JxUlAW",
        "outputId": "9f9eb8f5-58cd-4bed-da91-e07bbdf2f295"
      },
      "outputs": [
        {
          "output_type": "stream",
          "name": "stdout",
          "text": [
            "Radius of the Circle: 10\n",
            "The Area of the Circle is:  314.1592653589793\n"
          ]
        }
      ],
      "source": [
        "from math import pi #To produce the value of π\n",
        "\n",
        "r = float (input(\"Radius of the Circle: \")) #Input the radius of the circle\n",
        "a = str(pi * r**2) #Formula of the area \n",
        "print (\"The Area of the Circle is: \", a) #Print the anwer of the area of the circle"
      ]
    }
  ]
}